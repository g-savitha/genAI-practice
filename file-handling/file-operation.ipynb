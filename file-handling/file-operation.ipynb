{
 "cells": [
  {
   "cell_type": "code",
   "execution_count": null,
   "id": "273b3e00",
   "metadata": {},
   "outputs": [],
   "source": []
  },
  {
   "cell_type": "code",
   "execution_count": null,
   "id": "19d44bbf",
   "metadata": {},
   "outputs": [
    {
     "name": "stdout",
     "output_type": "stream",
     "text": [
      "Lorem ipsum dolor sit amet, consectetur adipiscing elit. Nullam auctor, nisl eget ultricies lacinia, nunc nisl aliquam nunc, vitae aliquam nisl nunc vitae nisl. Sed vitae nisl eget nisl aliquam consectetur. Nulla facilisi. Sed vitae nisl eget nisl aliquam consectetur. Nulla facilisi.\n",
      "\n",
      "The quick brown fox jumps over the lazy dog. The five boxing wizards jump quickly. How vexingly quick daft zebras jump!\n",
      "\n",
      "In computer science, artificial intelligence (AI) is intelligence demonstrated by machines, as opposed to natural intelligence displayed by animals including humans. AI research has been defined as the field of study of intelligent agents, which refers to any system that perceives its environment and takes actions that maximize its chance of achieving its goals.\n",
      "\n",
      "1234567890\n",
      "abcdefghijklmnopqrstuvwxyz\n",
      "ABCDEFGHIJKLMNOPQRSTUVWXYZ\n",
      "!@#$%^&*()_+-={}[]|\\:;\"'<>,.?/\n"
     ]
    }
   ],
   "source": [
    "# Read a whole file\n",
    "\n",
    "with open('file.txt', 'r') as file:\n",
    "    content = file.read()\n",
    "    print(content)"
   ]
  },
  {
   "cell_type": "code",
   "execution_count": null,
   "id": "255ac95b",
   "metadata": {},
   "outputs": [
    {
     "name": "stdout",
     "output_type": "stream",
     "text": [
      "Lorem ipsum dolor sit amet, consectetur adipiscing elit. Nullam auctor, nisl eget ultricies lacinia, nunc nisl aliquam nunc, vitae aliquam nisl nunc vitae nisl. Sed vitae nisl eget nisl aliquam consectetur. Nulla facilisi. Sed vitae nisl eget nisl aliquam consectetur. Nulla facilisi.\n",
      "\n",
      "The quick brown fox jumps over the lazy dog. The five boxing wizards jump quickly. How vexingly quick daft zebras jump!\n",
      "\n",
      "In computer science, artificial intelligence (AI) is intelligence demonstrated by machines, as opposed to natural intelligence displayed by animals including humans. AI research has been defined as the field of study of intelligent agents, which refers to any system that perceives its environment and takes actions that maximize its chance of achieving its goals.\n",
      "\n",
      "1234567890\n",
      "abcdefghijklmnopqrstuvwxyz\n",
      "ABCDEFGHIJKLMNOPQRSTUVWXYZ\n",
      "!@#$%^&*()_+-={}[]|\\:;\"'<>,.?/\n"
     ]
    }
   ],
   "source": [
    "# Read a file line by line\n",
    "\n",
    "with open('file.txt', 'r') as file:\n",
    "    for line in file:\n",
    "        print(line.strip())  # .strip() removes new line characters"
   ]
  },
  {
   "cell_type": "code",
   "execution_count": null,
   "id": "da2eaa28",
   "metadata": {},
   "outputs": [],
   "source": [
    "# writing a file - overwriting\n",
    "with open('file.txt', 'w') as file:\n",
    "    file.write('Helllo world\\n')\n",
    "    file.write('this is a new line')"
   ]
  },
  {
   "cell_type": "code",
   "execution_count": null,
   "id": "884e3682",
   "metadata": {},
   "outputs": [],
   "source": [
    "# write a file without overwriting -> use append operation\n",
    "with open('file.txt', 'a') as file:\n",
    "    file.write('appending the text')"
   ]
  },
  {
   "cell_type": "code",
   "execution_count": null,
   "id": "b7be3b60",
   "metadata": {},
   "outputs": [],
   "source": [
    "# writing a list of lines to the file\n",
    "lines = ['first\\n', 'second\\n', 'third\\n']\n",
    "\n",
    "with open('file.txt', 'a') as file:\n",
    "    file.writelines(lines)"
   ]
  },
  {
   "cell_type": "code",
   "execution_count": 10,
   "id": "b232dbb6",
   "metadata": {},
   "outputs": [],
   "source": [
    "# Binary Files -> in binaryt files we usually update bytes\n",
    "data = b'\\x00\\x01\\x02\\x03\\x04'\n",
    "\n",
    "with open('file.bin', 'wb') as file:\n",
    "    file.write(data)"
   ]
  },
  {
   "cell_type": "code",
   "execution_count": null,
   "id": "fc743369",
   "metadata": {},
   "outputs": [
    {
     "name": "stdout",
     "output_type": "stream",
     "text": [
      "b'\\x00\\x01\\x02\\x03\\x04'\n"
     ]
    }
   ],
   "source": [
    "# Reading a binary file\n",
    "\n",
    "with open('file.bin', 'rb') as file:\n",
    "    content = file.read()\n",
    "    print(content)"
   ]
  },
  {
   "cell_type": "code",
   "execution_count": 1,
   "id": "30e39348",
   "metadata": {},
   "outputs": [],
   "source": [
    "# read content from a source txt file and write it to a destination txt file\n",
    "\n",
    "with open('file.txt', 'r') as source_file:\n",
    "    content = source_file.read()\n",
    "\n",
    "with open('destination.txt', 'w') as dest_file:\n",
    "    dest_file.write(content)"
   ]
  },
  {
   "cell_type": "code",
   "execution_count": null,
   "id": "3cd8eedb",
   "metadata": {},
   "outputs": [
    {
     "name": "stdout",
     "output_type": "stream",
     "text": [
      "Lines: 4, words: 11, characters: 68\n"
     ]
    }
   ],
   "source": [
    "# read a text file and count number of lines words and characters\n",
    "def count_text_file(file_path):\n",
    "    with open(file_path, 'r') as file:\n",
    "        lines = file.readlines()\n",
    "        line_count = len(lines)\n",
    "        word_count = sum(len(line.split()) for line in lines)\n",
    "        char_count = sum(len(line) for line in lines)\n",
    "        return line_count, word_count, char_count\n",
    "\n",
    "\n",
    "lines, words, chars = count_text_file('file.txt')\n",
    "\n",
    "print(f'Lines: {lines}, words: {words}, characters: {chars}')"
   ]
  },
  {
   "cell_type": "markdown",
   "id": "9c0af135",
   "metadata": {},
   "source": [
    "w+ mode -> both read and write . creates a file if file does'nt exist. content is overwritten (if the file exists) "
   ]
  },
  {
   "cell_type": "code",
   "execution_count": 4,
   "id": "e7d1683d",
   "metadata": {},
   "outputs": [
    {
     "name": "stdout",
     "output_type": "stream",
     "text": [
      "Hello mom \n",
      "This is a new lie \n",
      "\n"
     ]
    }
   ],
   "source": [
    "# writing and reading a file\n",
    "\n",
    "with open('file.txt', 'w+') as file:\n",
    "    file.write('Hello mom \\n')\n",
    "    # file cursor would be pointing at the last statement\n",
    "    file.write('This is a new lie \\n')\n",
    "\n",
    "    # move the file cursor to beginning\n",
    "    #  if you comment out the below line you wont get any output, coz your cursor is at the end\n",
    "    # uncomment it to read its content\n",
    "    file.seek(0)\n",
    "    # read the content oof the file\n",
    "    content = file.read()\n",
    "    print(content)"
   ]
  },
  {
   "cell_type": "code",
   "execution_count": null,
   "id": "3d8e1d3e",
   "metadata": {},
   "outputs": [],
   "source": []
  },
  {
   "cell_type": "code",
   "execution_count": null,
   "id": "9dcdfe24",
   "metadata": {},
   "outputs": [],
   "source": []
  }
 ],
 "metadata": {
  "kernelspec": {
   "display_name": "myenv",
   "language": "python",
   "name": "python3"
  },
  "language_info": {
   "codemirror_mode": {
    "name": "ipython",
    "version": 3
   },
   "file_extension": ".py",
   "mimetype": "text/x-python",
   "name": "python",
   "nbconvert_exporter": "python",
   "pygments_lexer": "ipython3",
   "version": "3.12.11"
  }
 },
 "nbformat": 4,
 "nbformat_minor": 5
}
