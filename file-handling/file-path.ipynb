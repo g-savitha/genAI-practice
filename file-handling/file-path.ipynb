{
 "cells": [
  {
   "cell_type": "code",
   "execution_count": 1,
   "id": "e1b66050",
   "metadata": {},
   "outputs": [
    {
     "name": "stdout",
     "output_type": "stream",
     "text": [
      "Current working directory: /Users/savvy/workspace/AI-ML/generativeAI/file-handling\n"
     ]
    }
   ],
   "source": [
    "import os\n",
    "cwd = os.getcwd()\n",
    "print(f'Current working directory: {cwd}')"
   ]
  },
  {
   "cell_type": "code",
   "execution_count": 2,
   "id": "d5b630fe",
   "metadata": {},
   "outputs": [
    {
     "name": "stdout",
     "output_type": "stream",
     "text": [
      "directory: package is created\n"
     ]
    }
   ],
   "source": [
    "# create a new dir\n",
    "\n",
    "new_dir = \"package\"\n",
    "\n",
    "os.mkdir(new_dir)\n",
    "\n",
    "print(f'directory: {new_dir} is created')"
   ]
  },
  {
   "cell_type": "code",
   "execution_count": 3,
   "id": "53160924",
   "metadata": {},
   "outputs": [
    {
     "name": "stdout",
     "output_type": "stream",
     "text": [
      "['file.bin', 'file.txt', 'destination.txt', 'file-operation.ipynb', 'file-path.ipynb', 'package']\n"
     ]
    }
   ],
   "source": [
    "# list all files and dir\n",
    "\n",
    "items = os.listdir('.')\n",
    "print(items)"
   ]
  },
  {
   "cell_type": "code",
   "execution_count": null,
   "id": "ecab20c5",
   "metadata": {},
   "outputs": [
    {
     "name": "stdout",
     "output_type": "stream",
     "text": [
      "folder/file.txt\n"
     ]
    }
   ],
   "source": [
    "# joining paths\n",
    "\n",
    "dir_name = 'folder'\n",
    "file_name = 'file.txt'\n",
    "\n",
    "full_path = os.path.join(dir_name, file_name)\n",
    "\n",
    "print(full_path)"
   ]
  },
  {
   "cell_type": "code",
   "execution_count": null,
   "id": "124a9b1a",
   "metadata": {},
   "outputs": [],
   "source": [
    "full_path = os.path.join(os.getcwd(), dir_name, file_name)"
   ]
  },
  {
   "cell_type": "code",
   "execution_count": 6,
   "id": "70bb77b2",
   "metadata": {},
   "outputs": [
    {
     "name": "stdout",
     "output_type": "stream",
     "text": [
      "/Users/savvy/workspace/AI-ML/generativeAI/file-handling/folder/file.txt\n"
     ]
    }
   ],
   "source": [
    "print(full_path)"
   ]
  },
  {
   "cell_type": "code",
   "execution_count": null,
   "id": "392f1575",
   "metadata": {},
   "outputs": [
    {
     "name": "stdout",
     "output_type": "stream",
     "text": [
      "Path 'example1.txt' doesnt exist\n"
     ]
    }
   ],
   "source": [
    "path = 'example1.txt'\n",
    "\n",
    "if os.path.exists(path):\n",
    "    print(f\"Path '{path}' exists\")\n",
    "else:\n",
    "    print(f\"Path '{path}' doesnt exist\")"
   ]
  },
  {
   "cell_type": "code",
   "execution_count": null,
   "id": "fbb571d1",
   "metadata": {},
   "outputs": [
    {
     "name": "stdout",
     "output_type": "stream",
     "text": [
      "path is a 'file.txt' file\n"
     ]
    }
   ],
   "source": [
    "# check if a path is a file or directory\n",
    "import os\n",
    "\n",
    "path = 'file.txt'\n",
    "\n",
    "if os.path.isfile(path):\n",
    "    print(f\"path is a '{path}' file\")\n",
    "elif os.path.isdir(path):\n",
    "    print(f\"path is a '{path}' dir\")\n",
    "else:\n",
    "    print(f\"path is '{path}' neither a file or dir\")"
   ]
  },
  {
   "cell_type": "code",
   "execution_count": 9,
   "id": "24e7a998",
   "metadata": {},
   "outputs": [
    {
     "name": "stdout",
     "output_type": "stream",
     "text": [
      "/Users/savvy/workspace/AI-ML/generativeAI/file-handling/file.txt\n"
     ]
    }
   ],
   "source": [
    "# get the absolute path\n",
    "relative_path = 'file.txt'\n",
    "\n",
    "absolute_path = os.path.abspath(relative_path)\n",
    "\n",
    "print(absolute_path)"
   ]
  },
  {
   "cell_type": "markdown",
   "id": "43df8c62",
   "metadata": {},
   "source": []
  },
  {
   "cell_type": "code",
   "execution_count": null,
   "id": "602b0d27",
   "metadata": {},
   "outputs": [],
   "source": []
  }
 ],
 "metadata": {
  "kernelspec": {
   "display_name": "myenv",
   "language": "python",
   "name": "python3"
  },
  "language_info": {
   "codemirror_mode": {
    "name": "ipython",
    "version": 3
   },
   "file_extension": ".py",
   "mimetype": "text/x-python",
   "name": "python",
   "nbconvert_exporter": "python",
   "pygments_lexer": "ipython3",
   "version": "3.12.11"
  }
 },
 "nbformat": 4,
 "nbformat_minor": 5
}
