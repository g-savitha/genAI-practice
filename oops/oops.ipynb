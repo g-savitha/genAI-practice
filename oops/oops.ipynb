{
 "cells": [
  {
   "cell_type": "code",
   "execution_count": null,
   "id": "98059b83",
   "metadata": {},
   "outputs": [
    {
     "name": "stdout",
     "output_type": "stream",
     "text": [
      "['__class__', '__delattr__', '__dict__', '__dir__', '__doc__', '__eq__', '__format__', '__ge__', '__getattribute__', '__getstate__', '__gt__', '__hash__', '__init__', '__init_subclass__', '__le__', '__lt__', '__module__', '__ne__', '__new__', '__reduce__', '__reduce_ex__', '__repr__', '__setattr__', '__sizeof__', '__str__', '__subclasshook__', '__weakref__']\n"
     ]
    }
   ],
   "source": [
    "class Car:\n",
    "    pass\n",
    "\n",
    "\n",
    "audi = Car()\n",
    "bmw = Car()\n",
    "\n",
    "type(audi)\n",
    "# print(audi)\n",
    "# print(bmw)\n",
    "\n",
    "print(dir(audi))"
   ]
  },
  {
   "cell_type": "code",
   "execution_count": null,
   "id": "bd602b67",
   "metadata": {},
   "outputs": [
    {
     "name": "stdout",
     "output_type": "stream",
     "text": [
      "buddy\n",
      "3\n",
      "max\n"
     ]
    }
   ],
   "source": [
    "# instance variables and methods\n",
    "\n",
    "class Dog:\n",
    "    # constructor -> __init__\n",
    "    def __init__(self, name, age):\n",
    "        # self -> this in js\n",
    "        self.name = name\n",
    "        self.age = age\n",
    "\n",
    "# create objects\n",
    "\n",
    "\n",
    "buddy = Dog('buddy', 3)\n",
    "print(buddy.name)\n",
    "print(buddy.age)\n",
    "\n",
    "max = Dog('max', 6)\n",
    "print(max.name)"
   ]
  },
  {
   "cell_type": "code",
   "execution_count": null,
   "id": "7740bc34",
   "metadata": {},
   "outputs": [
    {
     "name": "stdout",
     "output_type": "stream",
     "text": [
      "buddy says WOOF!\n"
     ]
    }
   ],
   "source": [
    "# class with instance methods\n",
    "class Dog:\n",
    "    def __init__(self, name, age):\n",
    "        self.name = name\n",
    "        self.age = age\n",
    "    # instance methods\n",
    "# pass the self kw so that u can use inst variables inside the method\n",
    "\n",
    "    def bark(self):\n",
    "        print(f'{self.name} says WOOF!')\n",
    "\n",
    "\n",
    "buddy = Dog('buddy', 3)\n",
    "\n",
    "buddy.bark()"
   ]
  },
  {
   "cell_type": "code",
   "execution_count": null,
   "id": "019b66ef",
   "metadata": {},
   "outputs": [
    {
     "name": "stdout",
     "output_type": "stream",
     "text": [
      "5000\n"
     ]
    }
   ],
   "source": [
    "# Modelling a bank account\n",
    "\n",
    "class BankAccount:\n",
    "    def __init__(self, owner, balance=0):\n",
    "        self.owner = owner\n",
    "        self.balance = balance\n",
    "\n",
    "    def deposit(self, amount):\n",
    "        self.balance += amount\n",
    "        print(f'{amount} is deposited. new balance is {self.balance}')\n",
    "\n",
    "    def withdraw(self, amount):\n",
    "        if amount > self.balance:\n",
    "            print(f'you cannot withdraw. insufficient funds {amount}')\n",
    "        else:\n",
    "            self.balance -= amount\n",
    "            print(f'{amount} is withdrawn. new balance is {self.balance}')\n",
    "\n",
    "    def get_balance(self):\n",
    "        return self.balance\n",
    "\n",
    "\n",
    "bank_account = BankAccount('Savitha', 5000)\n",
    "print(bank_account.get_balance())"
   ]
  },
  {
   "cell_type": "code",
   "execution_count": null,
   "id": "1c633a0d",
   "metadata": {},
   "outputs": [
    {
     "name": "stdout",
     "output_type": "stream",
     "text": [
      "2000 is deposited. new balance is 7000\n"
     ]
    }
   ],
   "source": [
    "bank_account.deposit(2000)"
   ]
  },
  {
   "cell_type": "code",
   "execution_count": 11,
   "id": "6d787ef3",
   "metadata": {},
   "outputs": [
    {
     "name": "stdout",
     "output_type": "stream",
     "text": [
      "you cannot withdraw. insufficient funds 8000\n"
     ]
    }
   ],
   "source": [
    "bank_account.withdraw(8000)"
   ]
  },
  {
   "cell_type": "code",
   "execution_count": 12,
   "id": "a2112f93",
   "metadata": {},
   "outputs": [
    {
     "name": "stdout",
     "output_type": "stream",
     "text": [
      "1000 is withdrawn. new balance is 6000\n"
     ]
    }
   ],
   "source": [
    "bank_account.withdraw(1000)"
   ]
  },
  {
   "cell_type": "code",
   "execution_count": null,
   "id": "0fd9aae6",
   "metadata": {},
   "outputs": [],
   "source": []
  }
 ],
 "metadata": {
  "kernelspec": {
   "display_name": "myenv",
   "language": "python",
   "name": "python3"
  },
  "language_info": {
   "codemirror_mode": {
    "name": "ipython",
    "version": 3
   },
   "file_extension": ".py",
   "mimetype": "text/x-python",
   "name": "python",
   "nbconvert_exporter": "python",
   "pygments_lexer": "ipython3",
   "version": "3.12.11"
  }
 },
 "nbformat": 4,
 "nbformat_minor": 5
}
