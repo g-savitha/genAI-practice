{
 "cells": [
  {
   "cell_type": "code",
   "execution_count": null,
   "id": "c8a335b0",
   "metadata": {},
   "outputs": [
    {
     "name": "stdout",
     "output_type": "stream",
     "text": [
      "tesla supports self driving: True\n"
     ]
    }
   ],
   "source": [
    "# Inheritance\n",
    "\n",
    "class Car:\n",
    "    def __init__(self, windows, doors, enginetype):\n",
    "        self.windows = windows\n",
    "        self.doors = doors\n",
    "        self.enginetype = enginetype\n",
    "\n",
    "    def drive(self):\n",
    "        print(f'person will drive the {self.enginetype} car')\n",
    "\n",
    "\n",
    "class Tesla(Car):\n",
    "    def __init__(self, windows, doors, enginetype, is_self_driving):\n",
    "        super().__init__(windows, doors, enginetype)\n",
    "        self.is_self_driving = is_self_driving\n",
    "\n",
    "    def self_drive(self):\n",
    "        print(f'tesla supports self driving: {self.is_self_driving}')\n",
    "\n",
    "\n",
    "tesla = Tesla(2, 2, 'electric', True)\n",
    "tesla.self_drive()"
   ]
  },
  {
   "cell_type": "code",
   "execution_count": null,
   "id": "8729555d",
   "metadata": {},
   "outputs": [
    {
     "name": "stdout",
     "output_type": "stream",
     "text": [
      "buddy says woof!\n",
      "subclasses must implement this method\n",
      "owner is savi\n"
     ]
    }
   ],
   "source": [
    "# Multiple inheritance\n",
    "\n",
    "class Animal:\n",
    "    def __init__(self, name):\n",
    "        self.name = name\n",
    "\n",
    "    def speak(self):\n",
    "        print('subclasses must implement this method')\n",
    "\n",
    "\n",
    "class Pet:\n",
    "    def __init__(self, owner):\n",
    "        self.owner = owner\n",
    "\n",
    "\n",
    "class Dog(Animal, Pet):\n",
    "    def __init__(self, name, owner):\n",
    "        Animal.__init__(self, name)\n",
    "        Pet.__init__(self, owner)\n",
    "\n",
    "    def speak(self):\n",
    "        return f'{self.name} says woof!'\n",
    "\n",
    "#  create an object\n",
    "\n",
    "\n",
    "dog = Dog('buddy', 'savi')\n",
    "print(dog.speak())\n",
    "\n",
    "max = Animal('max')\n",
    "max.speak()\n",
    "\n",
    "print(f'owner is {dog.owner}')"
   ]
  },
  {
   "cell_type": "code",
   "execution_count": null,
   "id": "284ebda5",
   "metadata": {},
   "outputs": [],
   "source": []
  }
 ],
 "metadata": {
  "kernelspec": {
   "display_name": "myenv",
   "language": "python",
   "name": "python3"
  },
  "language_info": {
   "codemirror_mode": {
    "name": "ipython",
    "version": 3
   },
   "file_extension": ".py",
   "mimetype": "text/x-python",
   "name": "python",
   "nbconvert_exporter": "python",
   "pygments_lexer": "ipython3",
   "version": "3.12.11"
  }
 },
 "nbformat": 4,
 "nbformat_minor": 5
}
