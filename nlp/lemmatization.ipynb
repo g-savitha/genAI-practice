{
 "cells": [
  {
   "cell_type": "markdown",
   "id": "a411efda",
   "metadata": {},
   "source": [
    "## WordNet Lemmatizer\n",
    "\n",
    "Lemmatization is a technique like Stemming. The output we will get after lemmatization is called 'lemma', which is the root word rather than root stem, the output of stemming. After lemmatization,we will be fetting a valid word that means the same thing.\n",
    "\n",
    "NLTK provides `WordNetLemmatizer` class which is a thin wrappe around the wordnet corpus. This class uses `morphy()` function to the `WordNetCorpusReader` class to find a lemma."
   ]
  },
  {
   "cell_type": "code",
   "execution_count": 2,
   "id": "43d340ae",
   "metadata": {},
   "outputs": [
    {
     "name": "stderr",
     "output_type": "stream",
     "text": [
      "[nltk_data] Downloading package wordnet to /Users/savvy/nltk_data...\n"
     ]
    },
    {
     "data": {
      "text/plain": [
       "True"
      ]
     },
     "execution_count": 2,
     "metadata": {},
     "output_type": "execute_result"
    }
   ],
   "source": [
    "import nltk\n",
    "\n",
    "nltk.download('wordnet')"
   ]
  },
  {
   "cell_type": "code",
   "execution_count": null,
   "id": "48352def",
   "metadata": {},
   "outputs": [
    {
     "name": "stdout",
     "output_type": "stream",
     "text": [
      "go\n",
      "going\n",
      "going\n",
      "going\n"
     ]
    }
   ],
   "source": [
    "from nltk.stem import WordNetLemmatizer as wnl\n",
    "\n",
    "'''\n",
    "POS :\n",
    "noun -> n\n",
    "verb -> v\n",
    "adjective -> a\n",
    "adverb -> r\n",
    "'''\n",
    "print(wnl().lemmatize('going', 'v'))\n",
    "print(wnl().lemmatize('going', 'n'))\n",
    "print(wnl().lemmatize('going', 'a'))\n",
    "print(wnl().lemmatize('going', 'r'))"
   ]
  },
  {
   "cell_type": "code",
   "execution_count": null,
   "id": "f21a2cb7",
   "metadata": {},
   "outputs": [
    {
     "name": "stdout",
     "output_type": "stream",
     "text": [
      "eating---->eat\n",
      "eats---->eat\n",
      "eaten---->eat\n",
      "writing---->write\n",
      "writes---->write\n",
      "programming---->program\n",
      "programs---->program\n",
      "history---->history\n",
      "finally---->finally\n",
      "finalize---->finalize\n"
     ]
    }
   ],
   "source": [
    "words = ['eating', 'eats', 'eaten', 'writing', 'writes', 'programming',\n",
    "         'programs', 'history', 'finally', 'finalize']\n",
    "\n",
    "for word in words:\n",
    "    print(word+'---->'+wnl().lemmatize(word, 'v'))"
   ]
  },
  {
   "cell_type": "code",
   "execution_count": 12,
   "id": "cbc26113",
   "metadata": {},
   "outputs": [
    {
     "data": {
      "text/plain": [
       "'go'"
      ]
     },
     "execution_count": 12,
     "metadata": {},
     "output_type": "execute_result"
    }
   ],
   "source": [
    "wnl().lemmatize('goes')"
   ]
  },
  {
   "cell_type": "code",
   "execution_count": 13,
   "id": "143181e9",
   "metadata": {},
   "outputs": [
    {
     "data": {
      "text/plain": [
       "('fairly', 'sportingly')"
      ]
     },
     "execution_count": 13,
     "metadata": {},
     "output_type": "execute_result"
    }
   ],
   "source": [
    "wnl().lemmatize('fairly'), wnl().lemmatize('sportingly')"
   ]
  },
  {
   "cell_type": "code",
   "execution_count": 14,
   "id": "d86cfb98",
   "metadata": {},
   "outputs": [
    {
     "data": {
      "text/plain": [
       "('fairly', 'sportingly')"
      ]
     },
     "execution_count": 14,
     "metadata": {},
     "output_type": "execute_result"
    }
   ],
   "source": [
    "wnl().lemmatize('fairly', 'v'), wnl().lemmatize('sportingly')"
   ]
  },
  {
   "cell_type": "markdown",
   "id": "fc56d3f0",
   "metadata": {},
   "source": [
    "WordNetLemmatizer vs Stemmer? -> WNL\n",
    "\n",
    "NLTK takes the words from [WordNet corpus](https://wordnet.princeton.edu/)\n",
    "\n",
    "Examples use cases of Lemmatization\n",
    "- Q&A\n",
    "- Chatbots\n",
    "- Text Summarization"
   ]
  },
  {
   "cell_type": "markdown",
   "id": "2fbe069b",
   "metadata": {},
   "source": []
  }
 ],
 "metadata": {
  "kernelspec": {
   "display_name": "Python (myenv)",
   "language": "python",
   "name": "myenv"
  },
  "language_info": {
   "codemirror_mode": {
    "name": "ipython",
    "version": 3
   },
   "file_extension": ".py",
   "mimetype": "text/x-python",
   "name": "python",
   "nbconvert_exporter": "python",
   "pygments_lexer": "ipython3",
   "version": "3.11.3"
  }
 },
 "nbformat": 4,
 "nbformat_minor": 5
}
