{
 "cells": [
  {
   "cell_type": "markdown",
   "id": "69954c2d",
   "metadata": {},
   "source": [
    "## Stemming\n",
    "\n",
    "Stemming is the process of reducing a word to its setem that affixes to suffixes and prefixes to the roots of wrods known as lemma. Stemming is important in Natural Language understanding (NLU) and NLP"
   ]
  },
  {
   "cell_type": "markdown",
   "id": "d529b46b",
   "metadata": {},
   "source": [
    "### RegexpStemmer Class\n",
    "\n",
    "NLTK has RegexpStemmer class with the help of which we can easily implement regular expression stemmer algos. It basically takes a single regexp and removes any prefix or suffix that matches the expression"
   ]
  },
  {
   "cell_type": "markdown",
   "id": "c1ac401d",
   "metadata": {},
   "source": []
  }
 ],
 "metadata": {
  "language_info": {
   "name": "python"
  }
 },
 "nbformat": 4,
 "nbformat_minor": 5
}
