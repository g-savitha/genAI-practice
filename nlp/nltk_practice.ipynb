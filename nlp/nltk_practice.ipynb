{
 "cells": [
  {
   "cell_type": "code",
   "execution_count": 22,
   "id": "339e57dd",
   "metadata": {},
   "outputs": [
    {
     "name": "stdout",
     "output_type": "stream",
     "text": [
      "\n",
      "Hello world. This is nltk practice notebook.\n",
      "NLP is part of machine learning! NLP stands for natural language processing.\n",
      "\n"
     ]
    }
   ],
   "source": [
    "corpus = '''\n",
    "Hello world. This is nltk practice notebook.\n",
    "NLP is part of machine learning! NLP stands for natural language processing.\n",
    "'''\n",
    "\n",
    "print(corpus)"
   ]
  },
  {
   "cell_type": "code",
   "execution_count": null,
   "id": "b645fb2a",
   "metadata": {},
   "outputs": [
    {
     "name": "stderr",
     "output_type": "stream",
     "text": [
      "[nltk_data] Downloading package punkt_tab to\n",
      "[nltk_data]     /Users/savvy/miniconda3/envs/myenv/nltk_data...\n",
      "[nltk_data]   Unzipping tokenizers/punkt_tab.zip.\n"
     ]
    },
    {
     "data": {
      "text/plain": [
       "True"
      ]
     },
     "execution_count": 20,
     "metadata": {},
     "output_type": "execute_result"
    }
   ],
   "source": [
    "import nltk\n",
    "nltk.download(\n",
    "    'punkt_tab')"
   ]
  },
  {
   "cell_type": "code",
   "execution_count": 24,
   "id": "8e43b652",
   "metadata": {},
   "outputs": [
    {
     "name": "stdout",
     "output_type": "stream",
     "text": [
      "['\\nHello world.', 'This is nltk practice notebook.', 'NLP is part of machine learning!', 'NLP stands for natural language processing.']\n"
     ]
    }
   ],
   "source": [
    "from nltk.tokenize import sent_tokenize\n",
    "\n",
    "# Tokenize into sentences\n",
    "sentences = sent_tokenize(corpus, language='english')\n",
    "print(sentences)"
   ]
  },
  {
   "cell_type": "code",
   "execution_count": 25,
   "id": "d4b6aff4",
   "metadata": {},
   "outputs": [
    {
     "data": {
      "text/plain": [
       "['Hello',\n",
       " 'world',\n",
       " '.',\n",
       " 'This',\n",
       " 'is',\n",
       " 'nltk',\n",
       " 'practice',\n",
       " 'notebook',\n",
       " '.',\n",
       " 'NLP',\n",
       " 'is',\n",
       " 'part',\n",
       " 'of',\n",
       " 'machine',\n",
       " 'learning',\n",
       " '!',\n",
       " 'NLP',\n",
       " 'stands',\n",
       " 'for',\n",
       " 'natural',\n",
       " 'language',\n",
       " 'processing',\n",
       " '.']"
      ]
     },
     "execution_count": 25,
     "metadata": {},
     "output_type": "execute_result"
    }
   ],
   "source": [
    "# convert paragraph into words\n",
    "\n",
    "from nltk.tokenize import word_tokenize\n",
    "\n",
    "# tokenize data into words\n",
    "word_tokenize(corpus)"
   ]
  },
  {
   "cell_type": "code",
   "execution_count": null,
   "id": "add651b8",
   "metadata": {},
   "outputs": [
    {
     "name": "stdout",
     "output_type": "stream",
     "text": [
      "['Hello', 'world', '.']\n",
      "['This', 'is', 'nltk', 'practice', 'notebook', '.']\n",
      "['NLP', 'is', 'part', 'of', 'machine', 'learning', '!']\n",
      "['NLP', 'stands', 'for', 'natural', 'language', 'processing', '.']\n"
     ]
    }
   ],
   "source": [
    "for sentence in sentences:\n",
    "    print(word_tokenize(sentence))"
   ]
  },
  {
   "cell_type": "code",
   "execution_count": 28,
   "id": "3d8a49af",
   "metadata": {},
   "outputs": [
    {
     "data": {
      "text/plain": [
       "['Hello',\n",
       " 'world',\n",
       " '.',\n",
       " 'This',\n",
       " 'is',\n",
       " 'nltk',\n",
       " 'practice',\n",
       " 'notebook',\n",
       " '.',\n",
       " 'NLP',\n",
       " 'is',\n",
       " 'part',\n",
       " 'of',\n",
       " 'machine',\n",
       " 'learning',\n",
       " '!',\n",
       " 'NLP',\n",
       " 'stands',\n",
       " 'for',\n",
       " 'natural',\n",
       " 'language',\n",
       " 'processing',\n",
       " '.']"
      ]
     },
     "execution_count": 28,
     "metadata": {},
     "output_type": "execute_result"
    }
   ],
   "source": [
    "from nltk.tokenize import wordpunct_tokenize\n",
    "\n",
    "wordpunct_tokenize(corpus)"
   ]
  },
  {
   "cell_type": "code",
   "execution_count": null,
   "id": "05a25ac3",
   "metadata": {},
   "outputs": [
    {
     "data": {
      "text/plain": [
       "['Hello',\n",
       " 'world.',\n",
       " 'This',\n",
       " 'is',\n",
       " 'nltk',\n",
       " 'practice',\n",
       " 'notebook.',\n",
       " 'NLP',\n",
       " 'is',\n",
       " 'part',\n",
       " 'of',\n",
       " 'machine',\n",
       " 'learning',\n",
       " '!',\n",
       " 'NLP',\n",
       " 'stands',\n",
       " 'for',\n",
       " 'natural',\n",
       " 'language',\n",
       " 'processing',\n",
       " '.']"
      ]
     },
     "execution_count": 29,
     "metadata": {},
     "output_type": "execute_result"
    }
   ],
   "source": [
    "# Tree bank Word Tokenizer\n",
    "from nltk.tokenize import TreebankWordTokenizer\n",
    "\n",
    "tokenizer = TreebankWordTokenizer()\n",
    "tokenizer.tokenize(corpus)"
   ]
  },
  {
   "cell_type": "code",
   "execution_count": null,
   "id": "2a12fedc",
   "metadata": {},
   "outputs": [],
   "source": []
  }
 ],
 "metadata": {
  "kernelspec": {
   "display_name": "myenv",
   "language": "python",
   "name": "python3"
  },
  "language_info": {
   "codemirror_mode": {
    "name": "ipython",
    "version": 3
   },
   "file_extension": ".py",
   "mimetype": "text/x-python",
   "name": "python",
   "nbconvert_exporter": "python",
   "pygments_lexer": "ipython3",
   "version": "3.12.11"
  }
 },
 "nbformat": 4,
 "nbformat_minor": 5
}
