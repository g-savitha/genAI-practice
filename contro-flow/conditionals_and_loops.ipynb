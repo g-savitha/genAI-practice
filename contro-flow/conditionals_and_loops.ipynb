{
 "cells": [
  {
   "cell_type": "markdown",
   "id": "20e8ada1",
   "metadata": {},
   "source": [
    "## Conditionals (if, elif, else)\n"
   ]
  },
  {
   "cell_type": "markdown",
   "id": "3e5c906c",
   "metadata": {},
   "source": []
  },
  {
   "cell_type": "markdown",
   "id": "999718c1",
   "metadata": {},
   "source": []
  },
  {
   "cell_type": "code",
   "execution_count": 22,
   "id": "80daddb0",
   "metadata": {},
   "outputs": [
    {
     "name": "stdout",
     "output_type": "stream",
     "text": [
      "you are eligible for voting\n"
     ]
    }
   ],
   "source": [
    "# if statement\n",
    "age = 20\n",
    "if age >= 18:\n",
    "    print('you are eligible for voting')"
   ]
  },
  {
   "cell_type": "code",
   "execution_count": 23,
   "id": "3114319e",
   "metadata": {},
   "outputs": [
    {
     "name": "stdout",
     "output_type": "stream",
     "text": [
      "minor\n"
     ]
    }
   ],
   "source": [
    "# else\n",
    "age = 16\n",
    "if age >= 18:\n",
    "    print('can vote')\n",
    "else:\n",
    "    print('minor')"
   ]
  },
  {
   "cell_type": "code",
   "execution_count": 24,
   "id": "8692ce68",
   "metadata": {},
   "outputs": [
    {
     "name": "stdout",
     "output_type": "stream",
     "text": [
      "teenager\n"
     ]
    }
   ],
   "source": [
    "# elif\n",
    "\n",
    "age = 17\n",
    "if age < 13:\n",
    "    print('you are a child')\n",
    "elif age < 18:\n",
    "    print('teenager')\n",
    "else:\n",
    "    print('adult')"
   ]
  },
  {
   "cell_type": "code",
   "execution_count": 25,
   "id": "c4e6ac71",
   "metadata": {},
   "outputs": [
    {
     "name": "stdout",
     "output_type": "stream",
     "text": [
      "non leap year\n"
     ]
    }
   ],
   "source": [
    "# nested conditionals\n",
    "\n",
    "year = int(input(\"Enter the year\"))\n",
    "if year % 4 == 0:\n",
    "    print('leap year')\n",
    "else:\n",
    "    print('non leap year')"
   ]
  },
  {
   "cell_type": "markdown",
   "id": "27dd5827",
   "metadata": {},
   "source": [
    "## Loops"
   ]
  },
  {
   "cell_type": "code",
   "execution_count": 26,
   "id": "c0a24db4",
   "metadata": {},
   "outputs": [
    {
     "name": "stdout",
     "output_type": "stream",
     "text": [
      "0\n",
      "1\n",
      "2\n",
      "3\n",
      "4\n"
     ]
    }
   ],
   "source": [
    "# For Loop\n",
    "for i in range(5):\n",
    "    print(i)"
   ]
  },
  {
   "cell_type": "code",
   "execution_count": 27,
   "id": "2b211ecf",
   "metadata": {},
   "outputs": [
    {
     "name": "stdout",
     "output_type": "stream",
     "text": [
      "1\n",
      "2\n",
      "3\n",
      "4\n",
      "5\n"
     ]
    }
   ],
   "source": [
    "for i in range(1, 6):\n",
    "    print(i)"
   ]
  },
  {
   "cell_type": "code",
   "execution_count": 28,
   "id": "ab99b44e",
   "metadata": {},
   "outputs": [
    {
     "name": "stdout",
     "output_type": "stream",
     "text": [
      "1\n",
      "3\n",
      "5\n",
      "7\n",
      "9\n"
     ]
    }
   ],
   "source": [
    "for i in range(1, 10, 2):\n",
    "    print(i)"
   ]
  },
  {
   "cell_type": "code",
   "execution_count": 29,
   "id": "7f7f9056",
   "metadata": {},
   "outputs": [
    {
     "name": "stdout",
     "output_type": "stream",
     "text": [
      "10\n",
      "9\n",
      "8\n",
      "7\n",
      "6\n",
      "5\n",
      "4\n",
      "3\n",
      "2\n"
     ]
    }
   ],
   "source": [
    "for i in range(10, 1, -1):\n",
    "    print(i)"
   ]
  },
  {
   "cell_type": "code",
   "execution_count": 30,
   "id": "11c53422",
   "metadata": {},
   "outputs": [
    {
     "name": "stdout",
     "output_type": "stream",
     "text": [
      "10\n",
      "8\n",
      "6\n",
      "4\n",
      "2\n"
     ]
    }
   ],
   "source": [
    "for i in range(10, 1, -2):\n",
    "    print(i)"
   ]
  },
  {
   "cell_type": "code",
   "execution_count": 31,
   "id": "04e9ca77",
   "metadata": {},
   "outputs": [
    {
     "name": "stdout",
     "output_type": "stream",
     "text": [
      "s\n",
      "a\n",
      "v\n",
      "i\n",
      "t\n",
      "h\n",
      "a\n"
     ]
    }
   ],
   "source": [
    "str = \"savitha\"\n",
    "for i in str:\n",
    "    print(i)"
   ]
  },
  {
   "cell_type": "code",
   "execution_count": 32,
   "id": "a18a01ed",
   "metadata": {},
   "outputs": [
    {
     "name": "stdout",
     "output_type": "stream",
     "text": [
      "0\n",
      "1\n",
      "2\n",
      "3\n",
      "4\n"
     ]
    }
   ],
   "source": [
    "# While loop\n",
    "\n",
    "count = 0\n",
    "while count < 5:\n",
    "    print(count)\n",
    "    count += 1"
   ]
  },
  {
   "cell_type": "markdown",
   "id": "ff33c426",
   "metadata": {},
   "source": [
    "## Loop Control Statements\n",
    "\n",
    "- break\n",
    "- continue\n",
    "- pass"
   ]
  },
  {
   "cell_type": "code",
   "execution_count": 33,
   "id": "ebb0a606",
   "metadata": {},
   "outputs": [
    {
     "name": "stdout",
     "output_type": "stream",
     "text": [
      "0\n",
      "2\n",
      "4\n",
      "6\n"
     ]
    }
   ],
   "source": [
    "for i in range(0, 10, 2):\n",
    "    if i == 8:\n",
    "        break\n",
    "    print(i)"
   ]
  },
  {
   "cell_type": "code",
   "execution_count": 34,
   "id": "a7cb5ad5",
   "metadata": {},
   "outputs": [
    {
     "name": "stdout",
     "output_type": "stream",
     "text": [
      "1\n",
      "3\n",
      "5\n",
      "7\n",
      "9\n"
     ]
    }
   ],
   "source": [
    "for i in range(10):\n",
    "    if i % 2 == 0:\n",
    "        continue\n",
    "    print(i)"
   ]
  },
  {
   "cell_type": "code",
   "execution_count": 35,
   "id": "07f9da53",
   "metadata": {},
   "outputs": [
    {
     "name": "stdout",
     "output_type": "stream",
     "text": [
      "0\n",
      "1\n",
      "2\n",
      "3\n",
      "4\n"
     ]
    }
   ],
   "source": [
    "# pass statement is a null operation; it does nothing\n",
    "for i in range(5):\n",
    "    if (i == 3):\n",
    "        pass\n",
    "    print(i)"
   ]
  },
  {
   "cell_type": "code",
   "execution_count": 36,
   "id": "f19702a7",
   "metadata": {},
   "outputs": [
    {
     "name": "stdout",
     "output_type": "stream",
     "text": [
      "sum of first 10 natural numbers 55\n"
     ]
    }
   ],
   "source": [
    "n = 10\n",
    "sum = 0\n",
    "count = 1\n",
    "while count <= n:\n",
    "    sum += count\n",
    "    count += 1\n",
    "\n",
    "print(f'sum of first {n} natural numbers {sum}')"
   ]
  },
  {
   "cell_type": "code",
   "execution_count": 37,
   "id": "e3fbd47d",
   "metadata": {},
   "outputs": [
    {
     "name": "stdout",
     "output_type": "stream",
     "text": [
      "55\n"
     ]
    }
   ],
   "source": [
    "n = 10\n",
    "sum = 0\n",
    "for i in range(11):\n",
    "    sum += i\n",
    "print(sum)"
   ]
  },
  {
   "cell_type": "code",
   "execution_count": null,
   "id": "3bafb02f",
   "metadata": {},
   "outputs": [
    {
     "name": "stdout",
     "output_type": "stream",
     "text": [
      "2\n",
      "3\n",
      "5\n",
      "7\n",
      "11\n",
      "13\n",
      "17\n",
      "19\n",
      "23\n",
      "29\n",
      "31\n",
      "37\n",
      "41\n",
      "43\n",
      "47\n",
      "53\n",
      "59\n",
      "61\n",
      "67\n",
      "71\n",
      "73\n",
      "79\n",
      "83\n",
      "89\n",
      "97\n"
     ]
    }
   ],
   "source": [
    "def is_prime(n):\n",
    "    if (n < 2):\n",
    "        return False\n",
    "    for i in range(2, int(n ** 0.5) + 1):\n",
    "        if n % i == 0:\n",
    "            return False\n",
    "    return True\n",
    "\n",
    "\n",
    "for num in range(0, 100):\n",
    "    if is_prime(num):\n",
    "        print(num)"
   ]
  },
  {
   "cell_type": "code",
   "execution_count": null,
   "id": "6279d083",
   "metadata": {},
   "outputs": [],
   "source": []
  }
 ],
 "metadata": {
  "kernelspec": {
   "display_name": "env",
   "language": "python",
   "name": "python3"
  },
  "language_info": {
   "codemirror_mode": {
    "name": "ipython",
    "version": 3
   },
   "file_extension": ".py",
   "mimetype": "text/x-python",
   "name": "python",
   "nbconvert_exporter": "python",
   "pygments_lexer": "ipython3",
   "version": "3.12.11"
  }
 },
 "nbformat": 4,
 "nbformat_minor": 5
}
