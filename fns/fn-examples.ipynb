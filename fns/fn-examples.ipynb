{
 "cells": [
  {
   "cell_type": "markdown",
   "id": "c08985d1",
   "metadata": {},
   "source": [
    "Temperature conversion"
   ]
  },
  {
   "cell_type": "code",
   "execution_count": null,
   "id": "5d1a1832",
   "metadata": {},
   "outputs": [],
   "source": [
    "def convert_temp(temp, unit):\n",
    "    if unit == 'c':\n",
    "        # convert to celsius\n",
    "        return temp * 9/5 + 32\n",
    "    elif unit == 'f':\n",
    "        # convert to fareinheit\n",
    "        return (temp-32) * 5/9\n",
    "    else:\n",
    "        return 'enter either c or f a valid unit of conversion'"
   ]
  },
  {
   "cell_type": "code",
   "execution_count": null,
   "id": "64ac1db8",
   "metadata": {},
   "outputs": [
    {
     "data": {
      "text/plain": [
       "77.0"
      ]
     },
     "execution_count": 2,
     "metadata": {},
     "output_type": "execute_result"
    }
   ],
   "source": [
    "convert_temp(25, 'c')"
   ]
  },
  {
   "cell_type": "markdown",
   "id": "e54b23c4",
   "metadata": {},
   "source": []
  },
  {
   "cell_type": "code",
   "execution_count": null,
   "id": "07fe4ceb",
   "metadata": {},
   "outputs": [
    {
     "data": {
      "text/plain": [
       "25.0"
      ]
     },
     "execution_count": 3,
     "metadata": {},
     "output_type": "execute_result"
    }
   ],
   "source": [
    "convert_temp(77, 'f')"
   ]
  },
  {
   "cell_type": "code",
   "execution_count": null,
   "id": "8ee79841",
   "metadata": {},
   "outputs": [],
   "source": []
  },
  {
   "cell_type": "markdown",
   "id": "4b77db74",
   "metadata": {},
   "source": [
    "Password checker"
   ]
  },
  {
   "cell_type": "code",
   "execution_count": null,
   "id": "0d2ac331",
   "metadata": {},
   "outputs": [],
   "source": [
    "def is_strong_pwd(pwd):\n",
    "    if len(pwd) < 8:\n",
    "        return False\n",
    "    if not any(char.isdigit() for char in pwd):\n",
    "        return False\n",
    "    if not any(char.islower() for char in pwd):\n",
    "        return False\n",
    "    if not any(char.isupper() for char in pwd):\n",
    "        return False\n",
    "    if not any(char in '!@#$%^&*()_+' for char in pwd):\n",
    "        return False\n",
    "    return True"
   ]
  },
  {
   "cell_type": "code",
   "execution_count": 5,
   "id": "e7bfe215",
   "metadata": {},
   "outputs": [
    {
     "name": "stdout",
     "output_type": "stream",
     "text": [
      "False\n",
      "True\n"
     ]
    }
   ],
   "source": [
    "print(is_strong_pwd('WeakPwd'))\n",
    "print(is_strong_pwd('NgH1eg7($bZ'))"
   ]
  },
  {
   "cell_type": "code",
   "execution_count": null,
   "id": "d06acc2c",
   "metadata": {},
   "outputs": [
    {
     "name": "stdout",
     "output_type": "stream",
     "text": [
      "142.6\n"
     ]
    }
   ],
   "source": [
    "# Calculate total cost of items in a shopping cart\n",
    "\n",
    "def total_price(cart):\n",
    "    total_cost = 0\n",
    "    for item in cart:\n",
    "        total_cost += item['price'] * item['quantity']\n",
    "    return total_cost\n",
    "\n",
    "\n",
    "cart = [\n",
    "    {'name': 'Apple', 'price': 5.2, 'quantity': 7},\n",
    "    {'name': 'Banana', 'price': 9.7, 'quantity': 6},\n",
    "    {'name': 'Carrot', 'price': 4, 'quantity': 12}\n",
    "]\n",
    "\n",
    "print(total_price(cart))"
   ]
  },
  {
   "cell_type": "code",
   "execution_count": null,
   "id": "58e9ce27",
   "metadata": {},
   "outputs": [
    {
     "data": {
      "text/plain": [
       "False"
      ]
     },
     "execution_count": 14,
     "metadata": {},
     "output_type": "execute_result"
    }
   ],
   "source": [
    "def is_palindrome(s):\n",
    "    s = s.lower().replace(\" \", \"\")\n",
    "    return s == s[::-1]\n",
    "\n",
    "\n",
    "is_palindrome(\"A man a plan a canal panama\")\n",
    "is_palindrome(\"hellop\")"
   ]
  },
  {
   "cell_type": "code",
   "execution_count": null,
   "id": "39937788",
   "metadata": {},
   "outputs": [
    {
     "data": {
      "text/plain": [
       "True"
      ]
     },
     "execution_count": 15,
     "metadata": {},
     "output_type": "execute_result"
    }
   ],
   "source": [
    "is_palindrome(\"A man a plan a canal panama\")"
   ]
  },
  {
   "cell_type": "code",
   "execution_count": null,
   "id": "381308ca",
   "metadata": {},
   "outputs": [],
   "source": [
    "def factorial(n):\n",
    "    if n == 0 or n == 1:\n",
    "        return 1\n",
    "    return n * factorial(n-1)"
   ]
  },
  {
   "cell_type": "code",
   "execution_count": 25,
   "id": "12493c42",
   "metadata": {},
   "outputs": [
    {
     "data": {
      "text/plain": [
       "24"
      ]
     },
     "execution_count": 25,
     "metadata": {},
     "output_type": "execute_result"
    }
   ],
   "source": [
    "factorial(4)"
   ]
  },
  {
   "cell_type": "code",
   "execution_count": null,
   "id": "eec35b9c",
   "metadata": {},
   "outputs": [
    {
     "name": "stdout",
     "output_type": "stream",
     "text": [
      "{'hello': 1, 'mom': 2, 'how': 1, 'are': 1, 'you': 1, 'i': 1, 'am': 1, 'doing': 1, 'good': 1}\n"
     ]
    }
   ],
   "source": [
    "def count_word_frequency(file_path):\n",
    "    word_count = {}\n",
    "    with open(file_path, 'r') as file:\n",
    "        for line in file:\n",
    "            words = line.split()\n",
    "            for word in words:\n",
    "                word = word.lower().strip('.,!?;:\"\\'')\n",
    "                word_count[word] = word_count.get(word, 0)+1\n",
    "    return word_count\n",
    "\n",
    "\n",
    "file_path = \"test.txt\"\n",
    "print(count_word_frequency(file_path))"
   ]
  },
  {
   "cell_type": "code",
   "execution_count": null,
   "id": "055c946e",
   "metadata": {},
   "outputs": [
    {
     "name": "stdout",
     "output_type": "stream",
     "text": [
      "True\n",
      "False\n"
     ]
    }
   ],
   "source": [
    "# valid email\n",
    "\n",
    "import re\n",
    "\n",
    "\n",
    "def is_valid_email(email):\n",
    "    pattern = r'^[a-zA-Z0-9._%+-]+@[a-zA-Z0-9.-]+\\.[a-zA-Z]{2,}$'\n",
    "    return re.match(pattern, email) is not None\n",
    "\n",
    "\n",
    "print(is_valid_email('mailto@gsavitha.in'))\n",
    "print(is_valid_email('hello@124'))"
   ]
  },
  {
   "cell_type": "code",
   "execution_count": null,
   "id": "834b3ad0",
   "metadata": {},
   "outputs": [],
   "source": []
  }
 ],
 "metadata": {
  "kernelspec": {
   "display_name": "env",
   "language": "python",
   "name": "python3"
  },
  "language_info": {
   "codemirror_mode": {
    "name": "ipython",
    "version": 3
   },
   "file_extension": ".py",
   "mimetype": "text/x-python",
   "name": "python",
   "nbconvert_exporter": "python",
   "pygments_lexer": "ipython3",
   "version": "3.12.11"
  }
 },
 "nbformat": 4,
 "nbformat_minor": 5
}
