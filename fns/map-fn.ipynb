{
 "cells": [
  {
   "cell_type": "markdown",
   "id": "1f06694d",
   "metadata": {},
   "source": [
    "##### The map() function\n",
    "\n",
    "`map()` functions applies a given function to all items in an input list(or any other iterable)and returns a map object (an iterator). This is particularly useful for transforming data in a list comprehensively\n"
   ]
  },
  {
   "cell_type": "code",
   "execution_count": null,
   "id": "d01567de",
   "metadata": {},
   "outputs": [
    {
     "data": {
      "text/plain": [
       "100"
      ]
     },
     "execution_count": 2,
     "metadata": {},
     "output_type": "execute_result"
    }
   ],
   "source": [
    "def square(x):\n",
    "    return x*x\n",
    "\n",
    "\n",
    "square(10)"
   ]
  },
  {
   "cell_type": "code",
   "execution_count": null,
   "id": "25c16a81",
   "metadata": {
    "vscode": {
     "languageId": "coffeescript"
    }
   },
   "outputs": [
    {
     "data": {
      "text/plain": [
       "<map at 0x1060d0070>"
      ]
     },
     "execution_count": 3,
     "metadata": {},
     "output_type": "execute_result"
    }
   ],
   "source": [
    "numbers=[1,2,3,4,5,6]\n",
    "\n",
    "# syntax\n",
    "# map(fn,iterable) -> returns a map object\n",
    "map(square,numbers)\n"
   ]
  },
  {
   "cell_type": "code",
   "execution_count": null,
   "id": "f2a2dc9d",
   "metadata": {},
   "outputs": [
    {
     "data": {
      "text/plain": [
       "[1, 4, 9, 16, 25, 36]"
      ]
     },
     "execution_count": 4,
     "metadata": {},
     "output_type": "execute_result"
    }
   ],
   "source": [
    "list(map(square, numbers))"
   ]
  },
  {
   "cell_type": "code",
   "execution_count": null,
   "id": "6c88d742",
   "metadata": {},
   "outputs": [
    {
     "data": {
      "text/plain": [
       "[1, 4, 9, 16, 25, 36]"
      ]
     },
     "execution_count": 5,
     "metadata": {},
     "output_type": "execute_result"
    }
   ],
   "source": [
    "# Lambda function with map\n",
    "numbers = [1, 2, 3, 4, 5, 6]\n",
    "list(map(lambda x: x*x, numbers))"
   ]
  },
  {
   "cell_type": "code",
   "execution_count": null,
   "id": "d98a1a50",
   "metadata": {},
   "outputs": [
    {
     "data": {
      "text/plain": [
       "[5, 7, 9]"
      ]
     },
     "execution_count": 6,
     "metadata": {},
     "output_type": "execute_result"
    }
   ],
   "source": [
    "#  can we map multiple iterables\n",
    "num1 = [1, 2, 3]\n",
    "num2 = [4, 5, 6]\n",
    "# op: [5,7,9]\n",
    "\n",
    "list(map(lambda x, y: x + y, num1, num2))"
   ]
  },
  {
   "cell_type": "code",
   "execution_count": null,
   "id": "4e8bd53d",
   "metadata": {},
   "outputs": [
    {
     "data": {
      "text/plain": [
       "[2, 4, 6, 8]"
      ]
     },
     "execution_count": 7,
     "metadata": {},
     "output_type": "execute_result"
    }
   ],
   "source": [
    "# map to convert list of strings to integers\n",
    "str_nums = ['2', '4', '6', '8']\n",
    "\n",
    "list(map(int, str_nums))"
   ]
  },
  {
   "cell_type": "code",
   "execution_count": null,
   "id": "b4c78378",
   "metadata": {},
   "outputs": [
    {
     "data": {
      "text/plain": [
       "['APPLE', 'BANANA', 'CHERRIES']"
      ]
     },
     "execution_count": 8,
     "metadata": {},
     "output_type": "execute_result"
    }
   ],
   "source": [
    "words = ['apple', 'banana', 'cherries']\n",
    "\n",
    "list(map(str.upper, words))"
   ]
  },
  {
   "cell_type": "code",
   "execution_count": null,
   "id": "2cf3ee30",
   "metadata": {},
   "outputs": [
    {
     "data": {
      "text/plain": [
       "['modi', 'trump', 'putin', 'melony']"
      ]
     },
     "execution_count": 10,
     "metadata": {},
     "output_type": "execute_result"
    }
   ],
   "source": [
    "# map function to a list of dictionaries\n",
    "def get_name(people):\n",
    "    return people['name']\n",
    "\n",
    "\n",
    "people = [\n",
    "    {'name': 'modi', 'country': 'india'},\n",
    "    {'name': 'trump', 'country': 'USA'},\n",
    "    {'name': 'putin', 'country': 'russia'},\n",
    "    {'name': 'melony', 'country': 'italy'}\n",
    "]\n",
    "\n",
    "list(map(get_name, people))"
   ]
  },
  {
   "cell_type": "markdown",
   "id": "62da9cd0",
   "metadata": {},
   "source": []
  },
  {
   "cell_type": "code",
   "execution_count": null,
   "id": "5f19b107",
   "metadata": {},
   "outputs": [],
   "source": []
  }
 ],
 "metadata": {
  "kernelspec": {
   "display_name": "env",
   "language": "python",
   "name": "python3"
  },
  "language_info": {
   "codemirror_mode": {
    "name": "ipython",
    "version": 3
   },
   "file_extension": ".py",
   "mimetype": "text/x-python",
   "name": "python",
   "nbconvert_exporter": "python",
   "pygments_lexer": "ipython3",
   "version": "3.12.11"
  }
 },
 "nbformat": 4,
 "nbformat_minor": 5
}
