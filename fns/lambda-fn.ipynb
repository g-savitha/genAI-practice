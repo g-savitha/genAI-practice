{
 "cells": [
  {
   "cell_type": "markdown",
   "id": "218c6c7d",
   "metadata": {},
   "source": [
    "## Lambda functions\n",
    "\n",
    "- Lambda functions are small anonymous fns defined using the **lambda** keyword. They can have any number of args but only 1 expression. Used commonly for short operations or as arguments to higher order functions"
   ]
  },
  {
   "cell_type": "code",
   "execution_count": 1,
   "id": "0efc6422",
   "metadata": {},
   "outputs": [
    {
     "data": {
      "text/plain": [
       "<function __main__.<lambda>(arguments)>"
      ]
     },
     "execution_count": 1,
     "metadata": {},
     "output_type": "execute_result"
    }
   ],
   "source": [
    "# synatx\n",
    "lambda arguments: expression"
   ]
  },
  {
   "cell_type": "code",
   "execution_count": null,
   "id": "f7d4355b",
   "metadata": {},
   "outputs": [
    {
     "name": "stdout",
     "output_type": "stream",
     "text": [
      "11\n"
     ]
    }
   ],
   "source": [
    "def add(a, b):\n",
    "    return a+b\n",
    "# lambda version\n",
    "\n",
    "\n",
    "def add(a, b): return a+b\n",
    "\n",
    "\n",
    "type(add)\n",
    "print(add(5, 6))"
   ]
  },
  {
   "cell_type": "code",
   "execution_count": null,
   "id": "4353af33",
   "metadata": {},
   "outputs": [
    {
     "data": {
      "text/plain": [
       "True"
      ]
     },
     "execution_count": 7,
     "metadata": {},
     "output_type": "execute_result"
    }
   ],
   "source": [
    "def is_even(num): return num % 2 == 0\n",
    "\n",
    "\n",
    "is_even(14)"
   ]
  },
  {
   "cell_type": "code",
   "execution_count": null,
   "id": "2d9176bc",
   "metadata": {},
   "outputs": [
    {
     "data": {
      "text/plain": [
       "{1, 4, 9, 16, 25, 36, 49, 64, 81}"
      ]
     },
     "execution_count": 13,
     "metadata": {},
     "output_type": "execute_result"
    }
   ],
   "source": [
    "numbers = [1, 2, 3, 4, 5, 6, 7, 8, 9,]\n",
    "set(map(lambda x: x**2, numbers))"
   ]
  },
  {
   "cell_type": "code",
   "execution_count": null,
   "id": "bce7db9b",
   "metadata": {},
   "outputs": [],
   "source": []
  }
 ],
 "metadata": {
  "kernelspec": {
   "display_name": "env",
   "language": "python",
   "name": "python3"
  },
  "language_info": {
   "codemirror_mode": {
    "name": "ipython",
    "version": 3
   },
   "file_extension": ".py",
   "mimetype": "text/x-python",
   "name": "python",
   "nbconvert_exporter": "python",
   "pygments_lexer": "ipython3",
   "version": "3.12.11"
  }
 },
 "nbformat": 4,
 "nbformat_minor": 5
}
