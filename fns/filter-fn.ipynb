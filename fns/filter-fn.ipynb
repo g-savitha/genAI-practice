{
 "cells": [
  {
   "cell_type": "markdown",
   "id": "fbe62e29",
   "metadata": {},
   "source": [
    "##### filter function\n",
    "`filter()` constructs an iterator from elements of an iterable for which a function returns `true`. it is used to filter items from a list(or any other iterable) based on a condition"
   ]
  },
  {
   "cell_type": "code",
   "execution_count": null,
   "id": "3f61e6a8",
   "metadata": {},
   "outputs": [],
   "source": [
    "def is_even(num):\n",
    "    return num % 2 == 0"
   ]
  },
  {
   "cell_type": "code",
   "execution_count": null,
   "id": "8d1166b9",
   "metadata": {},
   "outputs": [
    {
     "data": {
      "text/plain": [
       "[2, 4, 6, 8, 10, 12]"
      ]
     },
     "execution_count": 3,
     "metadata": {},
     "output_type": "execute_result"
    }
   ],
   "source": [
    "lst = [1, 2, 3, 4, 5, 6, 7, 8, 9, 10, 11, 12]\n",
    "\n",
    "list(filter(is_even, lst))"
   ]
  },
  {
   "cell_type": "code",
   "execution_count": null,
   "id": "43f4d0d0",
   "metadata": {},
   "outputs": [
    {
     "data": {
      "text/plain": [
       "[6, 7, 8, 9, 10]"
      ]
     },
     "execution_count": 4,
     "metadata": {},
     "output_type": "execute_result"
    }
   ],
   "source": [
    "# filter with a lambda function\n",
    "\n",
    "num = [1, 2, 3, 4, 5, 6, 7, 8, 9, 10]\n",
    "\n",
    "list(filter(lambda x: x > 5, num))"
   ]
  },
  {
   "cell_type": "code",
   "execution_count": null,
   "id": "4d2b3898",
   "metadata": {},
   "outputs": [
    {
     "name": "stdout",
     "output_type": "stream",
     "text": [
      "[6, 8, 10]\n"
     ]
    }
   ],
   "source": [
    "# filter with lambda function and multiple conditions\n",
    "num = [1, 2, 3, 4, 5, 6, 7, 8, 9, 10]\n",
    "\n",
    "even_and_greater_than_five = list(filter(lambda x: x > 5 and x % 2 == 0, num))\n",
    "\n",
    "print(even_and_greater_than_five)"
   ]
  },
  {
   "cell_type": "code",
   "execution_count": null,
   "id": "ba671b8b",
   "metadata": {},
   "outputs": [
    {
     "data": {
      "text/plain": [
       "['adam', 'carl']"
      ]
     },
     "execution_count": 10,
     "metadata": {},
     "output_type": "execute_result"
    }
   ],
   "source": [
    "# filter on dictionaries\n",
    "# filter to check if age > 25\n",
    "\n",
    "people = [\n",
    "    {'name': 'adam', 'age': 26},\n",
    "    {'name': 'bob', 'age': 16},\n",
    "    {'name': 'carl', 'age': 36},\n",
    "    {'name': 'dora', 'age': 18}\n",
    "]\n",
    "\n",
    "list(filter(lambda x: x['age'] > 25, people))\n",
    "\n",
    "# to just get the names use filter + map\n",
    "\n",
    "list(map(lambda p: p['name'], filter(lambda p: p['age'] > 25, people)))"
   ]
  },
  {
   "cell_type": "code",
   "execution_count": null,
   "id": "6f325f82",
   "metadata": {},
   "outputs": [],
   "source": []
  }
 ],
 "metadata": {
  "kernelspec": {
   "display_name": "env",
   "language": "python",
   "name": "python3"
  },
  "language_info": {
   "codemirror_mode": {
    "name": "ipython",
    "version": 3
   },
   "file_extension": ".py",
   "mimetype": "text/x-python",
   "name": "python",
   "nbconvert_exporter": "python",
   "pygments_lexer": "ipython3",
   "version": "3.12.11"
  }
 },
 "nbformat": 4,
 "nbformat_minor": 5
}
