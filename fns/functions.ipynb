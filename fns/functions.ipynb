{
 "cells": [
  {
   "cell_type": "code",
   "execution_count": null,
   "id": "45dad50c",
   "metadata": {},
   "outputs": [],
   "source": [
    "def even_or_odd(n):\n",
    "    \"\"\"This function prints even or odd numbers\"\"\"\n",
    "    return \"even\" if n % 2 == 0 else \"odd\""
   ]
  },
  {
   "cell_type": "code",
   "execution_count": 4,
   "id": "4284f8a0",
   "metadata": {},
   "outputs": [
    {
     "data": {
      "text/plain": [
       "'odd'"
      ]
     },
     "execution_count": 4,
     "metadata": {},
     "output_type": "execute_result"
    }
   ],
   "source": [
    "even_or_odd(25)"
   ]
  },
  {
   "cell_type": "code",
   "execution_count": null,
   "id": "cc93a765",
   "metadata": {},
   "outputs": [],
   "source": [
    "def add(a, b):\n",
    "    return a+b"
   ]
  },
  {
   "cell_type": "code",
   "execution_count": null,
   "id": "b887cac0",
   "metadata": {},
   "outputs": [
    {
     "data": {
      "text/plain": [
       "15"
      ]
     },
     "execution_count": 6,
     "metadata": {},
     "output_type": "execute_result"
    }
   ],
   "source": [
    "add(5, 10)"
   ]
  },
  {
   "cell_type": "code",
   "execution_count": null,
   "id": "805f3688",
   "metadata": {},
   "outputs": [],
   "source": [
    "def greet(name=\"guest\"):\n",
    "    return f'Hello {name} welcome to python learning course'"
   ]
  },
  {
   "cell_type": "code",
   "execution_count": 11,
   "id": "3894b1ec",
   "metadata": {},
   "outputs": [
    {
     "data": {
      "text/plain": [
       "'Hello guest welcome to python learning course'"
      ]
     },
     "execution_count": 11,
     "metadata": {},
     "output_type": "execute_result"
    }
   ],
   "source": [
    "greet()"
   ]
  },
  {
   "cell_type": "code",
   "execution_count": null,
   "id": "3b208b09",
   "metadata": {},
   "outputs": [],
   "source": [
    "# variable length args\n",
    "# positional and keyword args\n",
    "def print_nums(*args):\n",
    "    for num in args:\n",
    "        print(num)"
   ]
  },
  {
   "cell_type": "code",
   "execution_count": 13,
   "id": "40f34103",
   "metadata": {},
   "outputs": [
    {
     "name": "stdout",
     "output_type": "stream",
     "text": [
      "1\n"
     ]
    }
   ],
   "source": [
    "print_nums(1)"
   ]
  },
  {
   "cell_type": "code",
   "execution_count": null,
   "id": "ad0e4f2e",
   "metadata": {},
   "outputs": [
    {
     "name": "stdout",
     "output_type": "stream",
     "text": [
      "1\n",
      "2\n",
      "3\n",
      "45\n",
      "6\n"
     ]
    }
   ],
   "source": [
    "#  positional args\n",
    "print_nums(1, 2, 3, 45, 6)"
   ]
  },
  {
   "cell_type": "code",
   "execution_count": null,
   "id": "c8e586a6",
   "metadata": {},
   "outputs": [],
   "source": [
    "# keyword args\n",
    "#  all the params will be in k-v pairs\n",
    "def print_details(**kwargs):\n",
    "    for k, v in kwargs.items():\n",
    "        print(f'{k}: {v}')"
   ]
  },
  {
   "cell_type": "code",
   "execution_count": null,
   "id": "7bd39863",
   "metadata": {},
   "outputs": [
    {
     "name": "stdout",
     "output_type": "stream",
     "text": [
      "name: adam\n",
      "age: 29\n",
      "country: India\n"
     ]
    }
   ],
   "source": [
    "print_details(name=\"adam\", age=29, country='India')"
   ]
  },
  {
   "cell_type": "code",
   "execution_count": null,
   "id": "09b002a1",
   "metadata": {},
   "outputs": [],
   "source": [
    "def print_both(*args, **kwargs):\n",
    "    for val in args:\n",
    "        print(f'Positional args: {val}')\n",
    "\n",
    "    for k, v in kwargs.items():\n",
    "        print(f'{k}: {v}')"
   ]
  },
  {
   "cell_type": "code",
   "execution_count": null,
   "id": "26fe9ac5",
   "metadata": {},
   "outputs": [
    {
     "name": "stdout",
     "output_type": "stream",
     "text": [
      "Positional args: 1\n",
      "Positional args: -1\n",
      "Positional args: 0\n",
      "Positional args: hello\n",
      "name: adam\n",
      "age: 56\n",
      "country: UK\n"
     ]
    }
   ],
   "source": [
    "print_both(1, -1, 0, 'hello', name='adam', age=56, country='UK')"
   ]
  },
  {
   "cell_type": "code",
   "execution_count": null,
   "id": "d14eae4e",
   "metadata": {},
   "outputs": [],
   "source": [
    "# in pyrhon u can return multiple values\n",
    "\n",
    "def multiply(a, b):\n",
    "    return a*b, a"
   ]
  },
  {
   "cell_type": "code",
   "execution_count": null,
   "id": "aa60b052",
   "metadata": {},
   "outputs": [
    {
     "data": {
      "text/plain": [
       "(63, 7)"
      ]
     },
     "execution_count": 23,
     "metadata": {},
     "output_type": "execute_result"
    }
   ],
   "source": [
    "multiply(7, 9)"
   ]
  },
  {
   "cell_type": "code",
   "execution_count": null,
   "id": "11ec953c",
   "metadata": {},
   "outputs": [],
   "source": []
  }
 ],
 "metadata": {
  "kernelspec": {
   "display_name": "env",
   "language": "python",
   "name": "python3"
  },
  "language_info": {
   "codemirror_mode": {
    "name": "ipython",
    "version": 3
   },
   "file_extension": ".py",
   "mimetype": "text/x-python",
   "name": "python",
   "nbconvert_exporter": "python",
   "pygments_lexer": "ipython3",
   "version": "3.12.11"
  }
 },
 "nbformat": 4,
 "nbformat_minor": 5
}
