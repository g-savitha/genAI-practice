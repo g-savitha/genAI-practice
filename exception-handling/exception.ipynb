{
 "cells": [
  {
   "cell_type": "code",
   "execution_count": null,
   "id": "56194121",
   "metadata": {},
   "outputs": [
    {
     "name": "stdout",
     "output_type": "stream",
     "text": [
      "variable is not assigned\n"
     ]
    }
   ],
   "source": [
    "# Exception -> try, except block\n",
    "try:\n",
    "    a = b\n",
    "except:\n",
    "    print(\"variable is not assigned\")"
   ]
  },
  {
   "cell_type": "code",
   "execution_count": null,
   "id": "19cf5418",
   "metadata": {},
   "outputs": [
    {
     "name": "stdout",
     "output_type": "stream",
     "text": [
      "name 'b' is not defined\n"
     ]
    }
   ],
   "source": [
    "try:\n",
    "    a = b\n",
    "except NameError as ex:\n",
    "    print(ex)"
   ]
  },
  {
   "cell_type": "code",
   "execution_count": null,
   "id": "abc9f64e",
   "metadata": {},
   "outputs": [
    {
     "name": "stdout",
     "output_type": "stream",
     "text": [
      "division by zero\n",
      "please enter denominator > 0\n"
     ]
    }
   ],
   "source": [
    "try:\n",
    "    result = 1 / 0\n",
    "except ZeroDivisionError as ex:\n",
    "    print(ex)\n",
    "    print('please enter denominator > 0')"
   ]
  },
  {
   "cell_type": "code",
   "execution_count": null,
   "id": "b5d82028",
   "metadata": {},
   "outputs": [
    {
     "name": "stdout",
     "output_type": "stream",
     "text": [
      "name 'b' is not defined\n",
      "main exception got caught here\n"
     ]
    }
   ],
   "source": [
    "try:\n",
    "    result = 1 / 2\n",
    "    a = b\n",
    "except ZeroDivisionError as ex:\n",
    "    print(ex)\n",
    "    print('please enter denominator > 0')\n",
    "except Exception as ex1:\n",
    "    print(ex1)\n",
    "    print('main exception got caught here')"
   ]
  },
  {
   "cell_type": "code",
   "execution_count": null,
   "id": "bdc86bac",
   "metadata": {},
   "outputs": [],
   "source": [
    "try:\n",
    "    num = int(input('enter a number'))\n",
    "    result = 10/num\n",
    "except ValueError:\n",
    "    print('this is not a valid number')\n",
    "except ZeroDivisionError:\n",
    "    print('enter denominator > 0')\n",
    "except Exception as ex:\n",
    "    print(ex)"
   ]
  },
  {
   "cell_type": "code",
   "execution_count": 14,
   "id": "c74eda3b",
   "metadata": {},
   "outputs": [
    {
     "name": "stdout",
     "output_type": "stream",
     "text": [
      "result is 5.0\n"
     ]
    }
   ],
   "source": [
    "# try, except, else block\n",
    "\n",
    "try:\n",
    "    num = int(input('enter a number'))\n",
    "    result = 10/num\n",
    "except ValueError:\n",
    "    print('this is not a valid number')\n",
    "except ZeroDivisionError:\n",
    "    print('enter denominator > 0')\n",
    "except Exception as ex:\n",
    "    print(ex)\n",
    "# gets printed when there is no exception\n",
    "else:\n",
    "    print(f'result is {result}')"
   ]
  },
  {
   "cell_type": "code",
   "execution_count": null,
   "id": "5a5e44a1",
   "metadata": {},
   "outputs": [
    {
     "name": "stdout",
     "output_type": "stream",
     "text": [
      "result is 2.0\n",
      "Execution is completed\n"
     ]
    }
   ],
   "source": [
    "# try, except, else, finally\n",
    "try:\n",
    "    num = int(input('enter a number'))\n",
    "    result = 10/num\n",
    "except ValueError:\n",
    "    print('this is not a valid number')\n",
    "except ZeroDivisionError:\n",
    "    print('enter denominator > 0')\n",
    "except Exception as ex:\n",
    "    print(ex)\n",
    "# gets printed when there is no exception\n",
    "else:\n",
    "    print(f'result is {result}')\n",
    "# executes no matter what\n",
    "finally:\n",
    "    print('Execution is completed')"
   ]
  },
  {
   "cell_type": "code",
   "execution_count": 27,
   "id": "b7dffe5d",
   "metadata": {},
   "outputs": [
    {
     "name": "stdout",
     "output_type": "stream",
     "text": [
      "name 'b' is not defined\n",
      "file is closed\n"
     ]
    }
   ],
   "source": [
    "# file handling and exception handlinf\n",
    "try:\n",
    "    file = open('file.txt', 'r')\n",
    "    content = file.read()\n",
    "    a = b\n",
    "    print(content)\n",
    "except FileNotFoundError as ex:\n",
    "    print(ex)\n",
    "except NameError as ex:\n",
    "    print(ex)\n",
    "finally:\n",
    "    if 'file' in locals() or not file.closed():\n",
    "        file.close()\n",
    "        print('file is closed')"
   ]
  },
  {
   "cell_type": "code",
   "execution_count": null,
   "id": "120fdb59",
   "metadata": {},
   "outputs": [],
   "source": []
  }
 ],
 "metadata": {
  "kernelspec": {
   "display_name": "myenv",
   "language": "python",
   "name": "python3"
  },
  "language_info": {
   "codemirror_mode": {
    "name": "ipython",
    "version": 3
   },
   "file_extension": ".py",
   "mimetype": "text/x-python",
   "name": "python",
   "nbconvert_exporter": "python",
   "pygments_lexer": "ipython3",
   "version": "3.12.11"
  }
 },
 "nbformat": 4,
 "nbformat_minor": 5
}
