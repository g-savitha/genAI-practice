{
 "cells": [
  {
   "cell_type": "code",
   "execution_count": null,
   "id": "b23dc47f",
   "metadata": {},
   "outputs": [],
   "source": []
  },
  {
   "cell_type": "markdown",
   "id": "f9915522",
   "metadata": {},
   "source": [
    "#### Lists\n",
    "1. Intro to Lists\n",
    "2. Creating lists\n",
    "3. Accessing List elements\n",
    "4. List Methods\n",
    "5. Slicing Lists\n",
    "6. Iterating Over lists\n",
    "7. List Comprehensions\n",
    "8. Nested Lists\n",
    "9. Practical Examples and common Errors"
   ]
  },
  {
   "cell_type": "markdown",
   "id": "74ba38f8",
   "metadata": {},
   "source": [
    "Lists are ordered, mutable collection of items\n"
   ]
  },
  {
   "cell_type": "code",
   "execution_count": null,
   "id": "2b632095",
   "metadata": {},
   "outputs": [
    {
     "name": "stdout",
     "output_type": "stream",
     "text": [
      "['savitha', '🍕', 1, 2, 3]\n"
     ]
    }
   ],
   "source": [
    "lst = [\"savitha\", \"🍕\", 1, 2, 3]\n",
    "print(lst)"
   ]
  },
  {
   "cell_type": "code",
   "execution_count": null,
   "id": "b59c9639",
   "metadata": {},
   "outputs": [
    {
     "name": "stdout",
     "output_type": "stream",
     "text": [
      "🍍\n"
     ]
    }
   ],
   "source": [
    "# Accessing list elements\n",
    "fruits = [\"🍇\", \"🍎\", \"🍌\", \"🍍\"]\n",
    "fruits[0]\n",
    "print(fruits[-1])"
   ]
  },
  {
   "cell_type": "code",
   "execution_count": 6,
   "id": "4fe033bc",
   "metadata": {},
   "outputs": [
    {
     "name": "stdout",
     "output_type": "stream",
     "text": [
      "['🍎', '🍌', '🍍']\n"
     ]
    }
   ],
   "source": [
    "print(fruits[1:])"
   ]
  },
  {
   "cell_type": "code",
   "execution_count": 7,
   "id": "9ddb4aa8",
   "metadata": {},
   "outputs": [
    {
     "name": "stdout",
     "output_type": "stream",
     "text": [
      "['🍎', '🍌']\n"
     ]
    }
   ],
   "source": [
    "print(fruits[1:-1])"
   ]
  },
  {
   "cell_type": "code",
   "execution_count": 8,
   "id": "de80ceaa",
   "metadata": {},
   "outputs": [
    {
     "name": "stdout",
     "output_type": "stream",
     "text": [
      "['🍍']\n"
     ]
    }
   ],
   "source": [
    "print(fruits[-1:])"
   ]
  },
  {
   "cell_type": "code",
   "execution_count": 9,
   "id": "dbd6fec3",
   "metadata": {},
   "outputs": [
    {
     "name": "stdout",
     "output_type": "stream",
     "text": [
      "[]\n"
     ]
    }
   ],
   "source": [
    "print(fruits[-1:-3])"
   ]
  },
  {
   "cell_type": "code",
   "execution_count": null,
   "id": "658e2c3c",
   "metadata": {},
   "outputs": [
    {
     "name": "stdout",
     "output_type": "stream",
     "text": [
      "[]\n"
     ]
    }
   ],
   "source": [
    "print(fruits[-1:2])"
   ]
  },
  {
   "cell_type": "code",
   "execution_count": 15,
   "id": "aaa5c8eb",
   "metadata": {},
   "outputs": [
    {
     "name": "stdout",
     "output_type": "stream",
     "text": [
      "['🍇', '🍒', '🍉']\n"
     ]
    }
   ],
   "source": [
    "# modifying list elements\n",
    "fruits.append(\"🍉\")\n",
    "print(fruits)"
   ]
  },
  {
   "cell_type": "code",
   "execution_count": 12,
   "id": "71f49ed6",
   "metadata": {},
   "outputs": [],
   "source": [
    "fruits[1:] = \"🍒\""
   ]
  },
  {
   "cell_type": "code",
   "execution_count": 13,
   "id": "e8339a80",
   "metadata": {},
   "outputs": [
    {
     "name": "stdout",
     "output_type": "stream",
     "text": [
      "['🍇', '🍒']\n"
     ]
    }
   ],
   "source": [
    "print(fruits)"
   ]
  },
  {
   "cell_type": "code",
   "execution_count": 16,
   "id": "925352b8",
   "metadata": {},
   "outputs": [
    {
     "data": {
      "text/plain": [
       "['🍒', '🍉']"
      ]
     },
     "execution_count": 16,
     "metadata": {},
     "output_type": "execute_result"
    }
   ],
   "source": [
    "fruits[1:]"
   ]
  },
  {
   "cell_type": "code",
   "execution_count": null,
   "id": "4898ddb0",
   "metadata": {},
   "outputs": [],
   "source": [
    "fruits.insert(1, \"🍊\")"
   ]
  },
  {
   "cell_type": "code",
   "execution_count": 19,
   "id": "41c51cfe",
   "metadata": {},
   "outputs": [
    {
     "data": {
      "text/plain": [
       "['🍇', '🍊', '🍒', '🍉']"
      ]
     },
     "execution_count": 19,
     "metadata": {},
     "output_type": "execute_result"
    }
   ],
   "source": [
    "fruits"
   ]
  },
  {
   "cell_type": "code",
   "execution_count": 20,
   "id": "594e1efb",
   "metadata": {},
   "outputs": [],
   "source": [
    "fruits.remove(\"🍇\")"
   ]
  },
  {
   "cell_type": "code",
   "execution_count": 21,
   "id": "5fc5bc2e",
   "metadata": {},
   "outputs": [
    {
     "data": {
      "text/plain": [
       "0"
      ]
     },
     "execution_count": 21,
     "metadata": {},
     "output_type": "execute_result"
    }
   ],
   "source": [
    "fruits.index(\"🍊\")"
   ]
  },
  {
   "cell_type": "code",
   "execution_count": 22,
   "id": "5724905f",
   "metadata": {},
   "outputs": [
    {
     "name": "stdout",
     "output_type": "stream",
     "text": [
      "['🍊', '🍒', '🍉']\n"
     ]
    }
   ],
   "source": [
    "print(fruits)"
   ]
  },
  {
   "cell_type": "code",
   "execution_count": null,
   "id": "937f9514",
   "metadata": {},
   "outputs": [
    {
     "name": "stdout",
     "output_type": "stream",
     "text": [
      "1\n"
     ]
    }
   ],
   "source": [
    "fruits.insert(2, \"🍌\")\n",
    "print(fruits.count(\"🍌\"))"
   ]
  },
  {
   "cell_type": "code",
   "execution_count": 25,
   "id": "e6efa35a",
   "metadata": {},
   "outputs": [
    {
     "name": "stdout",
     "output_type": "stream",
     "text": [
      "['🍊', '🍒', '🍌', '🍉']\n"
     ]
    }
   ],
   "source": [
    "print(fruits)"
   ]
  },
  {
   "cell_type": "code",
   "execution_count": 26,
   "id": "7cf0e2c2",
   "metadata": {},
   "outputs": [
    {
     "name": "stdout",
     "output_type": "stream",
     "text": [
      "None\n",
      "None\n"
     ]
    }
   ],
   "source": [
    "print(fruits.sort())\n",
    "print(fruits.reverse())"
   ]
  },
  {
   "cell_type": "code",
   "execution_count": null,
   "id": "c99bc901",
   "metadata": {},
   "outputs": [
    {
     "data": {
      "text/plain": [
       "['🍒', '🍌', '🍊', '🍉']"
      ]
     },
     "execution_count": 27,
     "metadata": {},
     "output_type": "execute_result"
    }
   ],
   "source": [
    "fruits"
   ]
  },
  {
   "cell_type": "code",
   "execution_count": 28,
   "id": "83ae069a",
   "metadata": {},
   "outputs": [
    {
     "name": "stdout",
     "output_type": "stream",
     "text": [
      "[]\n"
     ]
    }
   ],
   "source": [
    "fruits.clear()\n",
    "print(fruits)"
   ]
  },
  {
   "cell_type": "code",
   "execution_count": null,
   "id": "8efda170",
   "metadata": {},
   "outputs": [
    {
     "name": "stdout",
     "output_type": "stream",
     "text": [
      "[3, 4, 5]\n",
      "[1, 2, 3, 4, 5]\n",
      "[6, 7, 8, 9, 10]\n",
      "[1, 3, 5, 7, 9]\n",
      "[10, 9, 8, 7, 6, 5, 4, 3, 2, 1]\n"
     ]
    }
   ],
   "source": [
    "# Slicing Lists\n",
    "num = [1, 2, 3, 4, 5, 6, 7, 8, 9, 10]\n",
    "\n",
    "print(num[2:5])\n",
    "print(num[:5])\n",
    "print(num[5:])\n",
    "print(num[::2])\n",
    "print(num[::-1])"
   ]
  },
  {
   "cell_type": "code",
   "execution_count": null,
   "id": "26abc1e8",
   "metadata": {},
   "outputs": [
    {
     "name": "stdout",
     "output_type": "stream",
     "text": [
      "1\n",
      "2\n",
      "3\n",
      "4\n",
      "5\n",
      "6\n",
      "7\n",
      "8\n",
      "9\n",
      "10\n"
     ]
    }
   ],
   "source": [
    "for n in num:\n",
    "    print(n)"
   ]
  },
  {
   "cell_type": "code",
   "execution_count": null,
   "id": "2d94e90e",
   "metadata": {},
   "outputs": [
    {
     "name": "stdout",
     "output_type": "stream",
     "text": [
      "0 1\n",
      "1 2\n",
      "2 3\n",
      "3 4\n",
      "4 5\n",
      "5 6\n",
      "6 7\n",
      "7 8\n",
      "8 9\n",
      "9 10\n"
     ]
    }
   ],
   "source": [
    "for i, n in enumerate(num):\n",
    "    print(i, n)"
   ]
  },
  {
   "cell_type": "code",
   "execution_count": null,
   "id": "c07dfc6d",
   "metadata": {},
   "outputs": [
    {
     "name": "stdout",
     "output_type": "stream",
     "text": [
      "[0, 1, 4, 9, 16, 25, 36, 49, 64, 81, 100, 121, 144, 169, 196, 225, 256, 289, 324, 361]\n"
     ]
    }
   ],
   "source": [
    "# List comprehension\n",
    "lst = []\n",
    "for x in range(20):\n",
    "    lst.append(x**2)\n",
    "print(lst)"
   ]
  },
  {
   "cell_type": "code",
   "execution_count": 7,
   "id": "0ddd270a",
   "metadata": {},
   "outputs": [
    {
     "data": {
      "text/plain": [
       "[0, 1, 4, 9, 16, 25, 36, 49, 64, 81]"
      ]
     },
     "execution_count": 7,
     "metadata": {},
     "output_type": "execute_result"
    }
   ],
   "source": [
    "[x**2 for x in range(10)]"
   ]
  },
  {
   "cell_type": "code",
   "execution_count": null,
   "id": "f5689cb8",
   "metadata": {},
   "outputs": [],
   "source": []
  },
  {
   "cell_type": "markdown",
   "id": "9d66549f",
   "metadata": {},
   "source": [
    "##### List Comprehensions\n",
    "Syntax:\n",
    "[`expression` for item in `iterabale`]\n",
    "\n",
    "with conditional logic:\n",
    "[`expression` for itdm in `iterable` `if` condition] \n",
    "\n",
    "nested list comprehension:\n",
    "[`expression] for item1 in `iterable1` for item2 in `iterable2`"
   ]
  },
  {
   "cell_type": "markdown",
   "id": "40df6a4f",
   "metadata": {},
   "source": []
  },
  {
   "cell_type": "code",
   "execution_count": 9,
   "id": "a580b811",
   "metadata": {},
   "outputs": [
    {
     "name": "stdout",
     "output_type": "stream",
     "text": [
      "[0, 1, 4, 9, 16, 25, 36, 49, 64, 81]\n"
     ]
    }
   ],
   "source": [
    "# Basic List comprehension\n",
    "square = [n**2 for n in range(10)]\n",
    "print(square)"
   ]
  },
  {
   "cell_type": "code",
   "execution_count": null,
   "id": "01aef81f",
   "metadata": {},
   "outputs": [
    {
     "name": "stdout",
     "output_type": "stream",
     "text": [
      "[0, 2, 4, 6, 8, 10, 12, 14, 16, 18]\n"
     ]
    }
   ],
   "source": [
    "# list comprehension with if condition\n",
    "even_num = [n for n in range(20) if n % 2 == 0]\n",
    "print(even_num)"
   ]
  },
  {
   "cell_type": "code",
   "execution_count": null,
   "id": "76f3288a",
   "metadata": {},
   "outputs": [
    {
     "name": "stdout",
     "output_type": "stream",
     "text": [
      "[(1, 'a'), (1, 'b'), (1, 'c'), (1, 'd'), (2, 'a'), (2, 'b'), (2, 'c'), (2, 'd'), (3, 'a'), (3, 'b'), (3, 'c'), (3, 'd'), (4, 'a'), (4, 'b'), (4, 'c'), (4, 'd')]\n"
     ]
    }
   ],
   "source": [
    "# Nested list comprehension\n",
    "lst1 = [1, 2, 3, 4]\n",
    "lst2 = ['a', 'b', 'c', 'd']\n",
    "\n",
    "pair = [(i, j) for i in lst1 for j in lst2]\n",
    "\n",
    "print(pair)"
   ]
  },
  {
   "cell_type": "code",
   "execution_count": 14,
   "id": "634f1550",
   "metadata": {},
   "outputs": [
    {
     "name": "stdout",
     "output_type": "stream",
     "text": [
      "[5, 6, 6, 8, 9, 7]\n"
     ]
    }
   ],
   "source": [
    "# List comprehension with function\n",
    "\n",
    "words = [\"apple\", \"banana\", \"carrot\", \"doughnut\", \"egg plant\", \"falafel\"]\n",
    "\n",
    "word_len = [len(word) for word in words]\n",
    "\n",
    "print(word_len)"
   ]
  },
  {
   "cell_type": "code",
   "execution_count": null,
   "id": "89208323",
   "metadata": {},
   "outputs": [
    {
     "name": "stdout",
     "output_type": "stream",
     "text": [
      "['odd', 'odd', 'odd', 'odd', 'odd', 'odd']\n"
     ]
    }
   ],
   "source": [
    "nums = [1, 3, 5, 7, 9, 11]\n",
    "\n",
    "op = ['even' if n % 2 == 0 else 'odd' for n in nums]\n",
    "\n",
    "print(op)"
   ]
  },
  {
   "cell_type": "code",
   "execution_count": null,
   "id": "4ae76a89",
   "metadata": {},
   "outputs": [],
   "source": []
  }
 ],
 "metadata": {
  "kernelspec": {
   "display_name": "env",
   "language": "python",
   "name": "python3"
  },
  "language_info": {
   "codemirror_mode": {
    "name": "ipython",
    "version": 3
   },
   "file_extension": ".py",
   "mimetype": "text/x-python",
   "name": "python",
   "nbconvert_exporter": "python",
   "pygments_lexer": "ipython3",
   "version": "3.12.11"
  }
 },
 "nbformat": 4,
 "nbformat_minor": 5
}
