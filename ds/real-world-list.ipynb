{
 "cells": [
  {
   "cell_type": "code",
   "execution_count": null,
   "id": "128af707",
   "metadata": {},
   "outputs": [],
   "source": [
    "# Collect user feedback\n",
    "\n",
    "feedback = ['great', 'amazing', 'good', 'not good']\n",
    "feedback.append('worst')\n",
    "\n",
    "positive_count = sum(1 for ele in feedback if ele.lower()\n",
    "                     == 'good' or 'amazing' in ele.lower())"
   ]
  },
  {
   "cell_type": "code",
   "execution_count": 2,
   "id": "80940cdb",
   "metadata": {},
   "outputs": [
    {
     "name": "stdout",
     "output_type": "stream",
     "text": [
      "2\n",
      "['great', 'amazing', 'good', 'not good', 'worst']\n"
     ]
    }
   ],
   "source": [
    "print(positive_count)\n",
    "print(feedback)"
   ]
  },
  {
   "cell_type": "code",
   "execution_count": null,
   "id": "7eb63a31",
   "metadata": {},
   "outputs": [],
   "source": []
  }
 ],
 "metadata": {
  "kernelspec": {
   "display_name": "env",
   "language": "python",
   "name": "python3"
  },
  "language_info": {
   "codemirror_mode": {
    "name": "ipython",
    "version": 3
   },
   "file_extension": ".py",
   "mimetype": "text/x-python",
   "name": "python",
   "nbconvert_exporter": "python",
   "pygments_lexer": "ipython3",
   "version": "3.12.11"
  }
 },
 "nbformat": 4,
 "nbformat_minor": 5
}
